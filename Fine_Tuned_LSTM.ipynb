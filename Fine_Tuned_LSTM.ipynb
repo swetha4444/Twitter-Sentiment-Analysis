{
  "nbformat": 4,
  "nbformat_minor": 0,
  "metadata": {
    "colab": {
      "name": "Fine Tuned LSTM.ipynb",
      "provenance": [],
      "collapsed_sections": []
    },
    "kernelspec": {
      "name": "python3",
      "display_name": "Python 3"
    },
    "language_info": {
      "name": "python"
    }
  },
  "cells": [
    {
      "cell_type": "markdown",
      "metadata": {
        "id": "g7am-Qz5YDxk"
      },
      "source": [
        "IMPORTING LIBRARIES AND LOADING DATA"
      ]
    },
    {
      "cell_type": "code",
      "metadata": {
        "colab": {
          "base_uri": "https://localhost:8080/"
        },
        "id": "ZW0-5M9mZ40E",
        "outputId": "584d0c61-ad37-4439-8073-93995d857069"
      },
      "source": [
        "pip install tweet-preprocessor"
      ],
      "execution_count": null,
      "outputs": [
        {
          "output_type": "stream",
          "text": [
            "Collecting tweet-preprocessor\n",
            "  Downloading https://files.pythonhosted.org/packages/17/9d/71bd016a9edcef8860c607e531f30bd09b13103c7951ae73dd2bf174163c/tweet_preprocessor-0.6.0-py3-none-any.whl\n",
            "Installing collected packages: tweet-preprocessor\n",
            "Successfully installed tweet-preprocessor-0.6.0\n"
          ],
          "name": "stdout"
        }
      ]
    },
    {
      "cell_type": "code",
      "metadata": {
        "id": "2JfKqInZyCsS"
      },
      "source": [
        "import re \n",
        "import nltk \n",
        "import string \n",
        "import warnings \n",
        "import numpy as np \n",
        "import pandas as pd \n",
        "import seaborn as sns \n",
        "import matplotlib.pyplot as plt  \n",
        "import sklearn\n",
        "import preprocessor as p\n",
        "import sklearn\n",
        "import tensorflow as tf\n",
        "pd.set_option(\"display.max_colwidth\", 200) #to be seen\n",
        "warnings.filterwarnings(\"ignore\", category=DeprecationWarning) #ignore depricated versions warnings\n",
        "\n",
        "%matplotlib inline \n",
        "\n",
        "\n",
        "train  = pd.read_csv('train.csv',encoding='latin-1') \n",
        "test = pd.read_csv('test.csv',encoding='latin-1')"
      ],
      "execution_count": null,
      "outputs": []
    },
    {
      "cell_type": "code",
      "metadata": {
        "colab": {
          "base_uri": "https://localhost:8080/"
        },
        "id": "21f_QZuJyOEf",
        "outputId": "ca61ef02-aee6-4fcb-c351-c7e9ada7682c"
      },
      "source": [
        "train[\"Sentiment\"].value_counts()"
      ],
      "execution_count": null,
      "outputs": [
        {
          "output_type": "execute_result",
          "data": {
            "text/plain": [
              "Positive              11422\n",
              "Negative               9917\n",
              "Neutral                7713\n",
              "Extremely Positive     6624\n",
              "Extremely Negative     5481\n",
              "Name: Sentiment, dtype: int64"
            ]
          },
          "metadata": {
            "tags": []
          },
          "execution_count": 6
        }
      ]
    },
    {
      "cell_type": "markdown",
      "metadata": {
        "id": "YivU8AwTYRv7"
      },
      "source": [
        "CLEANING DATA"
      ]
    },
    {
      "cell_type": "code",
      "metadata": {
        "id": "66acUkhFyhDV"
      },
      "source": [
        "dataClean = train.append(test, ignore_index=True) \n",
        "\n",
        "dataClean.drop('UserName', axis=1, inplace=True)\n",
        "dataClean.drop('ScreenName', axis=1, inplace=True)\n",
        "dataClean.drop('Location', axis=1, inplace=True)\n",
        "dataClean.drop('TweetAt', axis=1, inplace=True)"
      ],
      "execution_count": null,
      "outputs": []
    },
    {
      "cell_type": "code",
      "metadata": {
        "colab": {
          "base_uri": "https://localhost:8080/",
          "height": 682
        },
        "id": "RyiSJ94namgP",
        "outputId": "6a844fa4-04e8-4eee-a424-21465c8ca189"
      },
      "source": [
        "def remove_pattern(input_txt, pattern):\n",
        "    r = re.findall(pattern, input_txt)\n",
        "    for i in r:\n",
        "        input_txt = re.sub(i, '', input_txt)\n",
        "    return input_txt\n",
        "\n",
        "\n",
        "dataClean['OriginalTweet'] = dataClean['OriginalTweet'].apply(lambda x: ' '.join([w for w in x.split() if len(w)>3])) #remove small words\n",
        "dataClean['OriginalTweet'] = dataClean['OriginalTweet'].apply(p.clean)\n",
        "\n",
        "dataClean.head(15)\n"
      ],
      "execution_count": null,
      "outputs": [
        {
          "output_type": "execute_result",
          "data": {
            "text/html": [
              "<div>\n",
              "<style scoped>\n",
              "    .dataframe tbody tr th:only-of-type {\n",
              "        vertical-align: middle;\n",
              "    }\n",
              "\n",
              "    .dataframe tbody tr th {\n",
              "        vertical-align: top;\n",
              "    }\n",
              "\n",
              "    .dataframe thead th {\n",
              "        text-align: right;\n",
              "    }\n",
              "</style>\n",
              "<table border=\"1\" class=\"dataframe\">\n",
              "  <thead>\n",
              "    <tr style=\"text-align: right;\">\n",
              "      <th></th>\n",
              "      <th>OriginalTweet</th>\n",
              "      <th>Sentiment</th>\n",
              "    </tr>\n",
              "  </thead>\n",
              "  <tbody>\n",
              "    <tr>\n",
              "      <th>0</th>\n",
              "      <td></td>\n",
              "      <td>Neutral</td>\n",
              "    </tr>\n",
              "    <tr>\n",
              "      <th>1</th>\n",
              "      <td>advice Talk your neighbours family exchange phone numbers create contact list with phone numbers neighbours schools employer chemist online shopping accounts poss adequate supplies regular meds ov...</td>\n",
              "      <td>Positive</td>\n",
              "    </tr>\n",
              "    <tr>\n",
              "      <th>2</th>\n",
              "      <td>Coronavirus Australia: Woolworths give elderly, disabled dedicated shopping hours amid COVID-19 outbreak</td>\n",
              "      <td>Positive</td>\n",
              "    </tr>\n",
              "    <tr>\n",
              "      <th>3</th>\n",
              "      <td>food stock only which empty... PLEASE, don't panic, THERE WILL ENOUGH FOOD EVERYONE take more than need. Stay calm, stay safe.</td>\n",
              "      <td>Positive</td>\n",
              "    </tr>\n",
              "    <tr>\n",
              "      <th>4</th>\n",
              "      <td>ready supermarket during outbreak. because paranoid, because food stock litteraly empty. serious thing, please, don't panic. causes shortage...</td>\n",
              "      <td>Extremely Negative</td>\n",
              "    </tr>\n",
              "    <tr>\n",
              "      <th>5</th>\n",
              "      <td>news regions first confirmed COVID-19 case came Sullivan County last week, people flocked area stores purchase cleaning supplies, hand sanitizer, food, toilet paper other goods, reports</td>\n",
              "      <td>Positive</td>\n",
              "    </tr>\n",
              "    <tr>\n",
              "      <th>6</th>\n",
              "      <td>Cashier grocery store sharing insights prove credibility commented \"I'm Civics class know what talking about\".</td>\n",
              "      <td>Positive</td>\n",
              "    </tr>\n",
              "    <tr>\n",
              "      <th>7</th>\n",
              "      <td>supermarket today. Didn't toilet paper.</td>\n",
              "      <td>Neutral</td>\n",
              "    </tr>\n",
              "    <tr>\n",
              "      <th>8</th>\n",
              "      <td>COVID-19 retail store classroom Atlanta will open walk-in business classes next weeks, beginning Monday, March will continue process online phone orders normal! Thank your understanding!</td>\n",
              "      <td>Positive</td>\n",
              "    </tr>\n",
              "    <tr>\n",
              "      <th>9</th>\n",
              "      <td>corona prevention,we should stop things with cash should online payment methods because corona spread through notes. Also should prefer online shopping from home. It's time fight against COVID</td>\n",
              "      <td>Negative</td>\n",
              "    </tr>\n",
              "    <tr>\n",
              "      <th>10</th>\n",
              "      <td>month there hasn't been crowding supermarkets restaurants, however reducing hours closing malls means everyone using same entrance dependent single supermarket.</td>\n",
              "      <td>Neutral</td>\n",
              "    </tr>\n",
              "    <tr>\n",
              "      <th>11</th>\n",
              "      <td>Covid-19 situation, have increased demand food products. wait time longer online orders, particularly beef share freezer packs. thank your patience during this time.</td>\n",
              "      <td>Extremely Positive</td>\n",
              "    </tr>\n",
              "    <tr>\n",
              "      <th>12</th>\n",
              "      <td>caring community. Lets look after less capable village ensure they stay healthy. Bringing shopping their doors, help with online shopping self isolation have symptoms been exposed somebody has.</td>\n",
              "      <td>Extremely Positive</td>\n",
              "    </tr>\n",
              "    <tr>\n",
              "      <th>13</th>\n",
              "      <td>don't need stock food, I'll just have Amazon deliver whatever need Amazon:</td>\n",
              "      <td>Positive</td>\n",
              "    </tr>\n",
              "    <tr>\n",
              "      <th>14</th>\n",
              "      <td>ADARA Releases COVID-19 Resource Center Travel Brands: Insights Help Travel Brands Stay Up-To-Date Consumer Travel Behavior Trends</td>\n",
              "      <td>Positive</td>\n",
              "    </tr>\n",
              "  </tbody>\n",
              "</table>\n",
              "</div>"
            ],
            "text/plain": [
              "                                                                                                                                                                                              OriginalTweet           Sentiment\n",
              "0                                                                                                                                                                                                                       Neutral\n",
              "1   advice Talk your neighbours family exchange phone numbers create contact list with phone numbers neighbours schools employer chemist online shopping accounts poss adequate supplies regular meds ov...            Positive\n",
              "2                                                                                                  Coronavirus Australia: Woolworths give elderly, disabled dedicated shopping hours amid COVID-19 outbreak            Positive\n",
              "3                                                                            food stock only which empty... PLEASE, don't panic, THERE WILL ENOUGH FOOD EVERYONE take more than need. Stay calm, stay safe.            Positive\n",
              "4                                                           ready supermarket during outbreak. because paranoid, because food stock litteraly empty. serious thing, please, don't panic. causes shortage...  Extremely Negative\n",
              "5                 news regions first confirmed COVID-19 case came Sullivan County last week, people flocked area stores purchase cleaning supplies, hand sanitizer, food, toilet paper other goods, reports            Positive\n",
              "6                                                                                            Cashier grocery store sharing insights prove credibility commented \"I'm Civics class know what talking about\".            Positive\n",
              "7                                                                                                                                                                   supermarket today. Didn't toilet paper.             Neutral\n",
              "8                COVID-19 retail store classroom Atlanta will open walk-in business classes next weeks, beginning Monday, March will continue process online phone orders normal! Thank your understanding!            Positive\n",
              "9          corona prevention,we should stop things with cash should online payment methods because corona spread through notes. Also should prefer online shopping from home. It's time fight against COVID            Negative\n",
              "10                                         month there hasn't been crowding supermarkets restaurants, however reducing hours closing malls means everyone using same entrance dependent single supermarket.             Neutral\n",
              "11                                    Covid-19 situation, have increased demand food products. wait time longer online orders, particularly beef share freezer packs. thank your patience during this time.  Extremely Positive\n",
              "12        caring community. Lets look after less capable village ensure they stay healthy. Bringing shopping their doors, help with online shopping self isolation have symptoms been exposed somebody has.  Extremely Positive\n",
              "13                                                                                                                               don't need stock food, I'll just have Amazon deliver whatever need Amazon:            Positive\n",
              "14                                                                       ADARA Releases COVID-19 Resource Center Travel Brands: Insights Help Travel Brands Stay Up-To-Date Consumer Travel Behavior Trends            Positive"
            ]
          },
          "metadata": {
            "tags": []
          },
          "execution_count": 9
        }
      ]
    },
    {
      "cell_type": "code",
      "metadata": {
        "id": "l5lUO0aw-Djt"
      },
      "source": [
        "def text_cleaning(text):\n",
        "  text = re.sub(r'@[A-Za-z0-9]+', '', text)     # removing @mentions\n",
        "  text = re.sub(r'@[A-Za-zA-Z0-9]+', '', text)  # removing @mentions \n",
        "  text = re.sub(r'@[A-Za-z]+', '', text)        # removing @mentions\n",
        "  text = re.sub(r'@[-)]+', '', text)            # removing @mentions\n",
        "  text = re.sub(r'#', '', text )                # removing '#' sign\n",
        "  text = re.sub(r'RT[\\s]+', '', text)           # removing RT\n",
        "  text = re.sub(r'https:\\/\\/\\S+', '', text)     # removing the hyper link\n",
        "  text = re.sub(r'&[a-z;]+', '', text)          # removing '&gt;'\n",
        "  text = re.sub('[^a-zA-Z#]',' ',text)\n",
        "  return text"
      ],
      "execution_count": null,
      "outputs": []
    },
    {
      "cell_type": "code",
      "metadata": {
        "colab": {
          "base_uri": "https://localhost:8080/",
          "height": 459
        },
        "id": "FoRPs3cbx__9",
        "outputId": "3cee0c66-af10-48dd-d153-3651af49cc0a"
      },
      "source": [
        "tokenized_tweet = dataClean['OriginalTweet'].apply(lambda x: x.split()) # tokenizing \n",
        "tokenized_tweet.head()\n",
        "from nltk.stem.porter import * \n",
        "stemmer = PorterStemmer()\n",
        "tokenized_tweet = tokenized_tweet.apply(lambda x: [stemmer.stem(i) for i in x]) # stemming\n",
        "tokenized_tweet\n",
        "for i in range(len(tokenized_tweet)):\n",
        "    tokenized_tweet[i] = ' '.join(tokenized_tweet[i])    \n",
        "dataClean['OriginalTweet'] = tokenized_tweet\n",
        "dataClean.head(10)"
      ],
      "execution_count": null,
      "outputs": [
        {
          "output_type": "execute_result",
          "data": {
            "text/html": [
              "<div>\n",
              "<style scoped>\n",
              "    .dataframe tbody tr th:only-of-type {\n",
              "        vertical-align: middle;\n",
              "    }\n",
              "\n",
              "    .dataframe tbody tr th {\n",
              "        vertical-align: top;\n",
              "    }\n",
              "\n",
              "    .dataframe thead th {\n",
              "        text-align: right;\n",
              "    }\n",
              "</style>\n",
              "<table border=\"1\" class=\"dataframe\">\n",
              "  <thead>\n",
              "    <tr style=\"text-align: right;\">\n",
              "      <th></th>\n",
              "      <th>OriginalTweet</th>\n",
              "      <th>Sentiment</th>\n",
              "    </tr>\n",
              "  </thead>\n",
              "  <tbody>\n",
              "    <tr>\n",
              "      <th>0</th>\n",
              "      <td></td>\n",
              "      <td>Neutral</td>\n",
              "    </tr>\n",
              "    <tr>\n",
              "      <th>1</th>\n",
              "      <td>advic talk your neighbour famili exchang phone number creat contact list with phone number neighbour school employ chemist onlin shop account poss adequ suppli regular med over order</td>\n",
              "      <td>Positive</td>\n",
              "    </tr>\n",
              "    <tr>\n",
              "      <th>2</th>\n",
              "      <td>coronaviru australia: woolworth give elderly, disabl dedic shop hour amid covid-19 outbreak</td>\n",
              "      <td>Positive</td>\n",
              "    </tr>\n",
              "    <tr>\n",
              "      <th>3</th>\n",
              "      <td>food stock onli which empty... please, don't panic, there will enough food everyon take more than need. stay calm, stay safe.</td>\n",
              "      <td>Positive</td>\n",
              "    </tr>\n",
              "    <tr>\n",
              "      <th>4</th>\n",
              "      <td>readi supermarket dure outbreak. becaus paranoid, becaus food stock litterali empty. seriou thing, please, don't panic. caus shortage...</td>\n",
              "      <td>Extremely Negative</td>\n",
              "    </tr>\n",
              "    <tr>\n",
              "      <th>5</th>\n",
              "      <td>news region first confirm covid-19 case came sullivan counti last week, peopl flock area store purchas clean supplies, hand sanitizer, food, toilet paper other goods, report</td>\n",
              "      <td>Positive</td>\n",
              "    </tr>\n",
              "    <tr>\n",
              "      <th>6</th>\n",
              "      <td>cashier groceri store share insight prove credibl comment \"i'm civic class know what talk about\".</td>\n",
              "      <td>Positive</td>\n",
              "    </tr>\n",
              "    <tr>\n",
              "      <th>7</th>\n",
              "      <td>supermarket today. didn't toilet paper.</td>\n",
              "      <td>Neutral</td>\n",
              "    </tr>\n",
              "    <tr>\n",
              "      <th>8</th>\n",
              "      <td>covid-19 retail store classroom atlanta will open walk-in busi class next weeks, begin monday, march will continu process onlin phone order normal! thank your understanding!</td>\n",
              "      <td>Positive</td>\n",
              "    </tr>\n",
              "    <tr>\n",
              "      <th>9</th>\n",
              "      <td>corona prevention,w should stop thing with cash should onlin payment method becaus corona spread through notes. also should prefer onlin shop from home. it' time fight against covid</td>\n",
              "      <td>Negative</td>\n",
              "    </tr>\n",
              "  </tbody>\n",
              "</table>\n",
              "</div>"
            ],
            "text/plain": [
              "                                                                                                                                                                            OriginalTweet           Sentiment\n",
              "0                                                                                                                                                                                                     Neutral\n",
              "1  advic talk your neighbour famili exchang phone number creat contact list with phone number neighbour school employ chemist onlin shop account poss adequ suppli regular med over order            Positive\n",
              "2                                                                                             coronaviru australia: woolworth give elderly, disabl dedic shop hour amid covid-19 outbreak            Positive\n",
              "3                                                           food stock onli which empty... please, don't panic, there will enough food everyon take more than need. stay calm, stay safe.            Positive\n",
              "4                                                readi supermarket dure outbreak. becaus paranoid, becaus food stock litterali empty. seriou thing, please, don't panic. caus shortage...  Extremely Negative\n",
              "5           news region first confirm covid-19 case came sullivan counti last week, peopl flock area store purchas clean supplies, hand sanitizer, food, toilet paper other goods, report            Positive\n",
              "6                                                                                       cashier groceri store share insight prove credibl comment \"i'm civic class know what talk about\".            Positive\n",
              "7                                                                                                                                                 supermarket today. didn't toilet paper.             Neutral\n",
              "8           covid-19 retail store classroom atlanta will open walk-in busi class next weeks, begin monday, march will continu process onlin phone order normal! thank your understanding!            Positive\n",
              "9   corona prevention,w should stop thing with cash should onlin payment method becaus corona spread through notes. also should prefer onlin shop from home. it' time fight against covid            Negative"
            ]
          },
          "metadata": {
            "tags": []
          },
          "execution_count": 12
        }
      ]
    },
    {
      "cell_type": "markdown",
      "metadata": {
        "id": "7QD5Y4TWYlHz"
      },
      "source": [
        "SEPARATING TEST AND TRAIN DATA"
      ]
    },
    {
      "cell_type": "code",
      "metadata": {
        "id": "zA7uagxXNBBJ"
      },
      "source": [
        "train=dataClean.iloc[:41157,:]\n",
        "test=dataClean.iloc[41157:,:]"
      ],
      "execution_count": null,
      "outputs": []
    },
    {
      "cell_type": "markdown",
      "metadata": {
        "id": "g51ikHKuYvPF"
      },
      "source": [
        "OUTPUT ENCODER"
      ]
    },
    {
      "cell_type": "code",
      "metadata": {
        "colab": {
          "base_uri": "https://localhost:8080/"
        },
        "id": "7gfBjq-GNYOK",
        "outputId": "48265f2c-ab83-4d87-da84-ac403805b00f"
      },
      "source": [
        "from sklearn.preprocessing import OneHotEncoder\n",
        "ohcoder = OneHotEncoder(sparse=False,handle_unknown='ignore')\n",
        "y1 = ohcoder.fit_transform(train[\"Sentiment\"].values.reshape(-1, 1))\n",
        "y1"
      ],
      "execution_count": null,
      "outputs": [
        {
          "output_type": "execute_result",
          "data": {
            "text/plain": [
              "array([[0., 0., 0., 1., 0.],\n",
              "       [0., 0., 0., 0., 1.],\n",
              "       [0., 0., 0., 0., 1.],\n",
              "       ...,\n",
              "       [0., 0., 0., 0., 1.],\n",
              "       [0., 0., 0., 1., 0.],\n",
              "       [0., 0., 1., 0., 0.]])"
            ]
          },
          "metadata": {
            "tags": []
          },
          "execution_count": 13
        }
      ]
    },
    {
      "cell_type": "code",
      "metadata": {
        "id": "w7P7495wNm6_"
      },
      "source": [
        "from sklearn.model_selection import train_test_split\n",
        "X_train, X_test, y_train, y_test = train_test_split(train['OriginalTweet'], y1, test_size=0.25, random_state=35)\n",
        "\n",
        "\n",
        "\n",
        "train = tf.data.Dataset.from_tensor_slices((X_train, y_train))\n",
        "test = tf.data.Dataset.from_tensor_slices((X_test, y_test))"
      ],
      "execution_count": null,
      "outputs": []
    },
    {
      "cell_type": "code",
      "metadata": {
        "id": "ebhhfv_3N_WZ"
      },
      "source": [
        "BUFFER_SIZE = 8000\n",
        "BATCH_SIZE = 50"
      ],
      "execution_count": null,
      "outputs": []
    },
    {
      "cell_type": "code",
      "metadata": {
        "id": "u6qm5pr_Oqsq"
      },
      "source": [
        "train= train.shuffle(BUFFER_SIZE).batch(BATCH_SIZE).prefetch(tf.data.AUTOTUNE)\n",
        "test= test.batch(BATCH_SIZE).prefetch(tf.data.AUTOTUNE)"
      ],
      "execution_count": null,
      "outputs": []
    },
    {
      "cell_type": "code",
      "metadata": {
        "colab": {
          "base_uri": "https://localhost:8080/"
        },
        "id": "1CnCJ8Z9P_Fi",
        "outputId": "6a44714d-607f-4e72-dd00-97218f667930"
      },
      "source": [
        "for example, label in train.take(1):\n",
        "  print('texts: ', example.numpy()[:3])\n",
        "  print()\n",
        "  print('labels: ', label.numpy()[:3])"
      ],
      "execution_count": null,
      "outputs": [
        {
          "output_type": "stream",
          "text": [
            "texts:  [b'To all members of the public We have a great supply chain and with the increasing demand for food in light of the ongoing issues of Covid 19 we have opened our services to the public and we are now offering a CLICK amp COLLECT service from our site at Embleton Cockermouth'\n",
            " b'On the eve of the Karnataka government asked people to stock up food items for a week'\n",
            " b\"#BradPaisley's free grocery store is delivering essentials to the elderly amid the #coronavirus crisis!\\r\\r\\n\\r\\r\\nhttps://t.co/G3eKI2jKSx\"]\n",
            "\n",
            "labels:  [[0. 0. 0. 0. 1.]\n",
            " [0. 0. 0. 1. 0.]\n",
            " [0. 0. 1. 0. 0.]]\n"
          ],
          "name": "stdout"
        }
      ]
    },
    {
      "cell_type": "markdown",
      "metadata": {
        "id": "PjaJpIgcY4Jy"
      },
      "source": [
        "TEXT ENCODER"
      ]
    },
    {
      "cell_type": "code",
      "metadata": {
        "colab": {
          "base_uri": "https://localhost:8080/"
        },
        "id": "nXDDbjdSPN05",
        "outputId": "c9afd53a-2185-46f3-ef64-07026ec2dd87"
      },
      "source": [
        "VOCAB_SIZE=1000\n",
        "encoder = tf.keras.layers.experimental.preprocessing.TextVectorization(\n",
        "    max_tokens=VOCAB_SIZE)\n",
        "encoder.adapt(train.map(lambda text, label: text))\n",
        "\n",
        "vocab = np.array(encoder.get_vocabulary())\n",
        "\n",
        "encoded_example = encoder(example)[:3].numpy()\n",
        "encoded_example"
      ],
      "execution_count": null,
      "outputs": [
        {
          "output_type": "execute_result",
          "data": {
            "text/plain": [
              "array([[  3,  33, 800,   5,   2, 221,  24,  23,   6, 245, 137, 280,   4,\n",
              "         22,   2, 672,  73,  10,  19,   7, 858,   5,   2,   1, 750,   5,\n",
              "         53,  45,  24,  23,   1,  39, 269,   3,   2, 221,   4,  24,  12,\n",
              "         58, 493,   6, 908,  32,   1, 262,  31,  39,   1,  18,   1,   1],\n",
              "       [ 13,   2,   1,   5,   2,   1, 187, 636,  30,   3,  85,  43,  19,\n",
              "        188,  10,   6, 172,   0,   0,   0,   0,   0,   0,   0,   0,   0,\n",
              "          0,   0,   0,   0,   0,   0,   0,   0,   0,   0,   0,   0,   0,\n",
              "          0,   0,   0,   0,   0,   0,   0,   0,   0,   0,   0,   0,   0],\n",
              "       [  1, 208,  25,  21,  11,   1, 402,   3,   2, 332, 158,   2,   8,\n",
              "         94,   1,   0,   0,   0,   0,   0,   0,   0,   0,   0,   0,   0,\n",
              "          0,   0,   0,   0,   0,   0,   0,   0,   0,   0,   0,   0,   0,\n",
              "          0,   0,   0,   0,   0,   0,   0,   0,   0,   0,   0,   0,   0]])"
            ]
          },
          "metadata": {
            "tags": []
          },
          "execution_count": 18
        }
      ]
    },
    {
      "cell_type": "code",
      "metadata": {
        "id": "e_e_BKEVQKik"
      },
      "source": [
        ""
      ],
      "execution_count": null,
      "outputs": []
    },
    {
      "cell_type": "markdown",
      "metadata": {
        "id": "6862x2ViQPyH"
      },
      "source": [
        "CREATE LSTM"
      ]
    },
    {
      "cell_type": "code",
      "metadata": {
        "id": "6Wk0GmU3QRWN"
      },
      "source": [
        "model = tf.keras.Sequential([\n",
        "    encoder,\n",
        "    tf.keras.layers.Embedding(\n",
        "        input_dim=len(encoder.get_vocabulary()),\n",
        "        output_dim=100,\n",
        "        # Use masking to handle the variable sequence lengths\n",
        "        mask_zero=True),\n",
        "    tf.keras.layers.Bidirectional(tf.keras.layers.LSTM(100)),\n",
        "    tf.keras.layers.Dense(100, activation='relu'),\n",
        "    tf.keras.layers.Dense(5,activation=tf.nn.softmax)\n",
        "])\n",
        "\n",
        "model.compile(loss=\"categorical_crossentropy\",\n",
        "              optimizer=tf.keras.optimizers.Adam(1e-4),\n",
        "              metrics=['accuracy'])"
      ],
      "execution_count": null,
      "outputs": []
    },
    {
      "cell_type": "markdown",
      "metadata": {
        "id": "gEL9iBXnQnnm"
      },
      "source": [
        "TRAIN MODEL"
      ]
    },
    {
      "cell_type": "code",
      "metadata": {
        "colab": {
          "base_uri": "https://localhost:8080/"
        },
        "id": "NUISwEv9QqJW",
        "outputId": "1b141740-d7ca-43e8-8666-84129207c521"
      },
      "source": [
        "history = model.fit(train, epochs=25,\n",
        "                    validation_data=test, \n",
        "                    validation_steps=50)\n"
      ],
      "execution_count": null,
      "outputs": [
        {
          "output_type": "stream",
          "text": [
            "Epoch 1/25\n",
            "618/618 [==============================] - 86s 139ms/step - loss: 1.4917 - accuracy: 0.3280 - val_loss: 1.4365 - val_accuracy: 0.3632\n",
            "Epoch 2/25\n",
            "618/618 [==============================] - 83s 134ms/step - loss: 1.3493 - accuracy: 0.4200 - val_loss: 1.2967 - val_accuracy: 0.4756\n",
            "Epoch 3/25\n",
            "618/618 [==============================] - 84s 136ms/step - loss: 1.1885 - accuracy: 0.5135 - val_loss: 1.1564 - val_accuracy: 0.5388\n",
            "Epoch 4/25\n",
            "618/618 [==============================] - 84s 136ms/step - loss: 1.0888 - accuracy: 0.5646 - val_loss: 1.1202 - val_accuracy: 0.5584\n",
            "Epoch 5/25\n",
            "618/618 [==============================] - 84s 135ms/step - loss: 1.0469 - accuracy: 0.5870 - val_loss: 1.0975 - val_accuracy: 0.5716\n",
            "Epoch 6/25\n",
            "618/618 [==============================] - 84s 136ms/step - loss: 1.0263 - accuracy: 0.6001 - val_loss: 1.0812 - val_accuracy: 0.5812\n",
            "Epoch 7/25\n",
            "618/618 [==============================] - 83s 135ms/step - loss: 1.0140 - accuracy: 0.6033 - val_loss: 1.0836 - val_accuracy: 0.5776\n",
            "Epoch 8/25\n",
            "618/618 [==============================] - 83s 134ms/step - loss: 1.0031 - accuracy: 0.6105 - val_loss: 1.0801 - val_accuracy: 0.5832\n",
            "Epoch 9/25\n",
            "618/618 [==============================] - 83s 135ms/step - loss: 0.9962 - accuracy: 0.6129 - val_loss: 1.0737 - val_accuracy: 0.5828\n",
            "Epoch 10/25\n",
            "618/618 [==============================] - 83s 135ms/step - loss: 0.9910 - accuracy: 0.6142 - val_loss: 1.0774 - val_accuracy: 0.5844\n",
            "Epoch 11/25\n",
            "618/618 [==============================] - 83s 134ms/step - loss: 0.9854 - accuracy: 0.6171 - val_loss: 1.0706 - val_accuracy: 0.5800\n",
            "Epoch 12/25\n",
            "618/618 [==============================] - 84s 135ms/step - loss: 0.9800 - accuracy: 0.6202 - val_loss: 1.0705 - val_accuracy: 0.5764\n",
            "Epoch 13/25\n",
            "618/618 [==============================] - 84s 135ms/step - loss: 0.9754 - accuracy: 0.6232 - val_loss: 1.0797 - val_accuracy: 0.5804\n",
            "Epoch 14/25\n",
            "618/618 [==============================] - 83s 135ms/step - loss: 0.9710 - accuracy: 0.6225 - val_loss: 1.0753 - val_accuracy: 0.5800\n",
            "Epoch 15/25\n",
            "618/618 [==============================] - 84s 135ms/step - loss: 0.9660 - accuracy: 0.6253 - val_loss: 1.0845 - val_accuracy: 0.5688\n",
            "Epoch 16/25\n",
            "618/618 [==============================] - 84s 136ms/step - loss: 0.9623 - accuracy: 0.6260 - val_loss: 1.0861 - val_accuracy: 0.5764\n",
            "Epoch 17/25\n",
            "618/618 [==============================] - 84s 135ms/step - loss: 0.9588 - accuracy: 0.6278 - val_loss: 1.0764 - val_accuracy: 0.5720\n",
            "Epoch 18/25\n",
            "618/618 [==============================] - 84s 135ms/step - loss: 0.9534 - accuracy: 0.6318 - val_loss: 1.0721 - val_accuracy: 0.5776\n",
            "Epoch 19/25\n",
            "618/618 [==============================] - 83s 135ms/step - loss: 0.9489 - accuracy: 0.6319 - val_loss: 1.0802 - val_accuracy: 0.5804\n",
            "Epoch 20/25\n",
            "618/618 [==============================] - 83s 135ms/step - loss: 0.9446 - accuracy: 0.6331 - val_loss: 1.0798 - val_accuracy: 0.5724\n",
            "Epoch 21/25\n",
            "618/618 [==============================] - 83s 135ms/step - loss: 0.9394 - accuracy: 0.6321 - val_loss: 1.0858 - val_accuracy: 0.5712\n",
            "Epoch 22/25\n",
            "618/618 [==============================] - 84s 135ms/step - loss: 0.9348 - accuracy: 0.6367 - val_loss: 1.0889 - val_accuracy: 0.5704\n",
            "Epoch 23/25\n",
            "618/618 [==============================] - 83s 135ms/step - loss: 0.9304 - accuracy: 0.6394 - val_loss: 1.0865 - val_accuracy: 0.5768\n",
            "Epoch 24/25\n",
            "618/618 [==============================] - 83s 135ms/step - loss: 0.9241 - accuracy: 0.6405 - val_loss: 1.0873 - val_accuracy: 0.5752\n",
            "Epoch 25/25\n",
            "618/618 [==============================] - 84s 136ms/step - loss: 0.9173 - accuracy: 0.6425 - val_loss: 1.1042 - val_accuracy: 0.5724\n"
          ],
          "name": "stdout"
        }
      ]
    },
    {
      "cell_type": "code",
      "metadata": {
        "colab": {
          "base_uri": "https://localhost:8080/",
          "height": 329
        },
        "id": "8mpuNs2GFwAf",
        "outputId": "65b309c4-f635-4344-af14-b51a85b6634a"
      },
      "source": [
        "model.save('finetuned_rnn.h5')"
      ],
      "execution_count": null,
      "outputs": [
        {
          "output_type": "error",
          "ename": "NotImplementedError",
          "evalue": "ignored",
          "traceback": [
            "\u001b[0;31m---------------------------------------------------------------------------\u001b[0m",
            "\u001b[0;31mNotImplementedError\u001b[0m                       Traceback (most recent call last)",
            "\u001b[0;32m<ipython-input-29-1ab9ee98a345>\u001b[0m in \u001b[0;36m<module>\u001b[0;34m()\u001b[0m\n\u001b[0;32m----> 1\u001b[0;31m \u001b[0mmodel\u001b[0m\u001b[0;34m.\u001b[0m\u001b[0msave\u001b[0m\u001b[0;34m(\u001b[0m\u001b[0;34m'finetuned_rnn.h5'\u001b[0m\u001b[0;34m)\u001b[0m\u001b[0;34m\u001b[0m\u001b[0;34m\u001b[0m\u001b[0m\n\u001b[0m",
            "\u001b[0;32m/usr/local/lib/python3.7/dist-packages/tensorflow/python/keras/engine/training.py\u001b[0m in \u001b[0;36msave\u001b[0;34m(self, filepath, overwrite, include_optimizer, save_format, signatures, options, save_traces)\u001b[0m\n\u001b[1;32m   2000\u001b[0m     \u001b[0;31m# pylint: enable=line-too-long\u001b[0m\u001b[0;34m\u001b[0m\u001b[0;34m\u001b[0m\u001b[0;34m\u001b[0m\u001b[0m\n\u001b[1;32m   2001\u001b[0m     save.save_model(self, filepath, overwrite, include_optimizer, save_format,\n\u001b[0;32m-> 2002\u001b[0;31m                     signatures, options, save_traces)\n\u001b[0m\u001b[1;32m   2003\u001b[0m \u001b[0;34m\u001b[0m\u001b[0m\n\u001b[1;32m   2004\u001b[0m   def save_weights(self,\n",
            "\u001b[0;32m/usr/local/lib/python3.7/dist-packages/tensorflow/python/keras/saving/save.py\u001b[0m in \u001b[0;36msave_model\u001b[0;34m(model, filepath, overwrite, include_optimizer, save_format, signatures, options, save_traces)\u001b[0m\n\u001b[1;32m    152\u001b[0m           'or using `save_weights`.')\n\u001b[1;32m    153\u001b[0m     hdf5_format.save_model_to_hdf5(\n\u001b[0;32m--> 154\u001b[0;31m         model, filepath, overwrite, include_optimizer)\n\u001b[0m\u001b[1;32m    155\u001b[0m   \u001b[0;32melse\u001b[0m\u001b[0;34m:\u001b[0m\u001b[0;34m\u001b[0m\u001b[0;34m\u001b[0m\u001b[0m\n\u001b[1;32m    156\u001b[0m     saved_model_save.save(model, filepath, overwrite, include_optimizer,\n",
            "\u001b[0;32m/usr/local/lib/python3.7/dist-packages/tensorflow/python/keras/saving/hdf5_format.py\u001b[0m in \u001b[0;36msave_model_to_hdf5\u001b[0;34m(model, filepath, overwrite, include_optimizer)\u001b[0m\n\u001b[1;32m    123\u001b[0m     \u001b[0mmodel_weights_group\u001b[0m \u001b[0;34m=\u001b[0m \u001b[0mf\u001b[0m\u001b[0;34m.\u001b[0m\u001b[0mcreate_group\u001b[0m\u001b[0;34m(\u001b[0m\u001b[0;34m'model_weights'\u001b[0m\u001b[0;34m)\u001b[0m\u001b[0;34m\u001b[0m\u001b[0;34m\u001b[0m\u001b[0m\n\u001b[1;32m    124\u001b[0m     \u001b[0mmodel_layers\u001b[0m \u001b[0;34m=\u001b[0m \u001b[0mmodel\u001b[0m\u001b[0;34m.\u001b[0m\u001b[0mlayers\u001b[0m\u001b[0;34m\u001b[0m\u001b[0;34m\u001b[0m\u001b[0m\n\u001b[0;32m--> 125\u001b[0;31m     \u001b[0msave_weights_to_hdf5_group\u001b[0m\u001b[0;34m(\u001b[0m\u001b[0mmodel_weights_group\u001b[0m\u001b[0;34m,\u001b[0m \u001b[0mmodel_layers\u001b[0m\u001b[0;34m)\u001b[0m\u001b[0;34m\u001b[0m\u001b[0;34m\u001b[0m\u001b[0m\n\u001b[0m\u001b[1;32m    126\u001b[0m \u001b[0;34m\u001b[0m\u001b[0m\n\u001b[1;32m    127\u001b[0m     \u001b[0;31m# TODO(b/128683857): Add integration tests between tf.keras and external\u001b[0m\u001b[0;34m\u001b[0m\u001b[0;34m\u001b[0m\u001b[0;34m\u001b[0m\u001b[0m\n",
            "\u001b[0;32m/usr/local/lib/python3.7/dist-packages/tensorflow/python/keras/saving/hdf5_format.py\u001b[0m in \u001b[0;36msave_weights_to_hdf5_group\u001b[0;34m(f, layers)\u001b[0m\n\u001b[1;32m    635\u001b[0m   \u001b[0;32mfor\u001b[0m \u001b[0mlayer\u001b[0m \u001b[0;32min\u001b[0m \u001b[0msorted\u001b[0m\u001b[0;34m(\u001b[0m\u001b[0mlayers\u001b[0m\u001b[0;34m,\u001b[0m \u001b[0mkey\u001b[0m\u001b[0;34m=\u001b[0m\u001b[0;32mlambda\u001b[0m \u001b[0mx\u001b[0m\u001b[0;34m:\u001b[0m \u001b[0mx\u001b[0m\u001b[0;34m.\u001b[0m\u001b[0mname\u001b[0m\u001b[0;34m)\u001b[0m\u001b[0;34m:\u001b[0m\u001b[0;34m\u001b[0m\u001b[0;34m\u001b[0m\u001b[0m\n\u001b[1;32m    636\u001b[0m     \u001b[0mg\u001b[0m \u001b[0;34m=\u001b[0m \u001b[0mf\u001b[0m\u001b[0;34m.\u001b[0m\u001b[0mcreate_group\u001b[0m\u001b[0;34m(\u001b[0m\u001b[0mlayer\u001b[0m\u001b[0;34m.\u001b[0m\u001b[0mname\u001b[0m\u001b[0;34m)\u001b[0m\u001b[0;34m\u001b[0m\u001b[0;34m\u001b[0m\u001b[0m\n\u001b[0;32m--> 637\u001b[0;31m     \u001b[0mweights\u001b[0m \u001b[0;34m=\u001b[0m \u001b[0m_legacy_weights\u001b[0m\u001b[0;34m(\u001b[0m\u001b[0mlayer\u001b[0m\u001b[0;34m)\u001b[0m\u001b[0;34m\u001b[0m\u001b[0;34m\u001b[0m\u001b[0m\n\u001b[0m\u001b[1;32m    638\u001b[0m     \u001b[0mweight_values\u001b[0m \u001b[0;34m=\u001b[0m \u001b[0mK\u001b[0m\u001b[0;34m.\u001b[0m\u001b[0mbatch_get_value\u001b[0m\u001b[0;34m(\u001b[0m\u001b[0mweights\u001b[0m\u001b[0;34m)\u001b[0m\u001b[0;34m\u001b[0m\u001b[0;34m\u001b[0m\u001b[0m\n\u001b[1;32m    639\u001b[0m     \u001b[0mweight_names\u001b[0m \u001b[0;34m=\u001b[0m \u001b[0;34m[\u001b[0m\u001b[0mw\u001b[0m\u001b[0;34m.\u001b[0m\u001b[0mname\u001b[0m\u001b[0;34m.\u001b[0m\u001b[0mencode\u001b[0m\u001b[0;34m(\u001b[0m\u001b[0;34m'utf8'\u001b[0m\u001b[0;34m)\u001b[0m \u001b[0;32mfor\u001b[0m \u001b[0mw\u001b[0m \u001b[0;32min\u001b[0m \u001b[0mweights\u001b[0m\u001b[0;34m]\u001b[0m\u001b[0;34m\u001b[0m\u001b[0;34m\u001b[0m\u001b[0m\n",
            "\u001b[0;32m/usr/local/lib/python3.7/dist-packages/tensorflow/python/keras/saving/hdf5_format.py\u001b[0m in \u001b[0;36m_legacy_weights\u001b[0;34m(layer)\u001b[0m\n\u001b[1;32m    884\u001b[0m         \u001b[0;34m'Save or restore weights that is not an instance of `tf.Variable` is '\u001b[0m\u001b[0;34m\u001b[0m\u001b[0;34m\u001b[0m\u001b[0m\n\u001b[1;32m    885\u001b[0m         \u001b[0;34m'not supported in h5, use `save_format=\\'tf\\'` instead. Got a model '\u001b[0m\u001b[0;34m\u001b[0m\u001b[0;34m\u001b[0m\u001b[0m\n\u001b[0;32m--> 886\u001b[0;31m         'or layer {} with weights {}'.format(layer.__class__.__name__, weights))\n\u001b[0m\u001b[1;32m    887\u001b[0m   \u001b[0;32mreturn\u001b[0m \u001b[0mweights\u001b[0m\u001b[0;34m\u001b[0m\u001b[0;34m\u001b[0m\u001b[0m\n",
            "\u001b[0;31mNotImplementedError\u001b[0m: Save or restore weights that is not an instance of `tf.Variable` is not supported in h5, use `save_format='tf'` instead. Got a model or layer TextVectorization with weights [<tensorflow.python.keras.engine.base_layer_utils.TrackableWeightHandler object at 0x7fd72e615d50>]"
          ]
        }
      ]
    },
    {
      "cell_type": "code",
      "metadata": {
        "id": "gYkbtAaeF2ON"
      },
      "source": [
        "from tensorflow.keras.models import load_model\n",
        "fine_rnn = load_model('finetuned_rnn.h5')"
      ],
      "execution_count": null,
      "outputs": []
    },
    {
      "cell_type": "markdown",
      "metadata": {
        "id": "9k2zlIF9Y9Xp"
      },
      "source": [
        "TEST MODEL"
      ]
    },
    {
      "cell_type": "code",
      "metadata": {
        "colab": {
          "base_uri": "https://localhost:8080/"
        },
        "id": "BD8FY9E4T9Vm",
        "outputId": "db202f3a-9977-41df-ac24-d5a61d0ed414"
      },
      "source": [
        "loss, acc = model.evaluate(test)\n",
        "\n",
        "print('Test Loss: {}'.format(loss))\n",
        "print('Test Accuracy: {}'.format(acc))"
      ],
      "execution_count": null,
      "outputs": [
        {
          "output_type": "stream",
          "text": [
            "206/206 [==============================] - 4s 21ms/step - loss: 1.0346 - accuracy: 0.5920\n",
            "Test Loss: 1.0345537662506104\n",
            "Test Accuracy: 0.5920311212539673\n"
          ],
          "name": "stdout"
        }
      ]
    },
    {
      "cell_type": "code",
      "metadata": {
        "colab": {
          "base_uri": "https://localhost:8080/",
          "height": 573
        },
        "id": "JNpQXa4dUx7S",
        "outputId": "372fb44f-994c-4147-f897-27ed9f201810"
      },
      "source": [
        "import keras\n",
        "from matplotlib import pyplot as plt\n",
        "\n",
        "plt.plot(history.history['accuracy'],color='red')\n",
        "plt.plot(history.history['val_accuracy'],color='green')\n",
        "plt.title('model accuracy')\n",
        "plt.ylabel('accuracy')\n",
        "plt.xlabel('epoch')\n",
        "plt.legend(['train', 'val'], loc='upper left')\n",
        "plt.show()\n",
        "plt.plot(history.history['loss'],color='red')\n",
        "plt.plot(history.history['val_loss'],color='green')\n",
        "plt.title('model loss')\n",
        "plt.ylabel('loss')\n",
        "plt.xlabel('epoch')\n",
        "plt.legend(['train', 'val'], loc='upper left')\n",
        "plt.show()"
      ],
      "execution_count": null,
      "outputs": [
        {
          "output_type": "display_data",
          "data": {
            "image/png": "[encoded data removed]",
            "text/plain": [
              "<Figure size 432x288 with 1 Axes>"
            ]
          },
          "metadata": {
            "tags": [],
            "needs_background": "light"
          }
        },
        {
          "output_type": "display_data",
          "data": {
            "image/png": "[encoded data removed]",
            "text/plain": [
              "<Figure size 432x288 with 1 Axes>"
            ]
          },
          "metadata": {
            "tags": [],
            "needs_background": "light"
          }
        }
      ]
    },
    {
      "cell_type": "code",
      "metadata": {
        "colab": {
          "base_uri": "https://localhost:8080/",
          "height": 485
        },
        "id": "R3Wkl9uPVW6T",
        "outputId": "1c58efa0-c852-4608-8ef1-2d683c4171d7"
      },
      "source": [
        "test=dataClean.iloc[41157:,:]\n",
        "test"
      ],
      "execution_count": null,
      "outputs": [
        {
          "output_type": "execute_result",
          "data": {
            "text/html": [
              "<div>\n",
              "<style scoped>\n",
              "    .dataframe tbody tr th:only-of-type {\n",
              "        vertical-align: middle;\n",
              "    }\n",
              "\n",
              "    .dataframe tbody tr th {\n",
              "        vertical-align: top;\n",
              "    }\n",
              "\n",
              "    .dataframe thead th {\n",
              "        text-align: right;\n",
              "    }\n",
              "</style>\n",
              "<table border=\"1\" class=\"dataframe\">\n",
              "  <thead>\n",
              "    <tr style=\"text-align: right;\">\n",
              "      <th></th>\n",
              "      <th>OriginalTweet</th>\n",
              "      <th>Sentiment</th>\n",
              "    </tr>\n",
              "  </thead>\n",
              "  <tbody>\n",
              "    <tr>\n",
              "      <th>41157</th>\n",
              "      <td>trending: yorker encount empti supermarket shelv (pictured, wegman brooklyn), sold-out onlin grocer (foodkick, maxdelivery) -fear shopper stock</td>\n",
              "      <td>NaN</td>\n",
              "    </tr>\n",
              "    <tr>\n",
              "      <th>41158</th>\n",
              "      <td>when couldn't find hand sanit fred meyer, turn $114.97 pack purell??!!check concern drive prices.</td>\n",
              "      <td>NaN</td>\n",
              "    </tr>\n",
              "    <tr>\n",
              "      <th>41159</th>\n",
              "      <td>find protect yourself love one from</td>\n",
              "      <td>NaN</td>\n",
              "    </tr>\n",
              "    <tr>\n",
              "      <th>41160</th>\n",
              "      <td>buy hit citi anxiou shopper stock food&amp;amp;med suppli after worker becom confirm patient stage event?</td>\n",
              "      <td>NaN</td>\n",
              "    </tr>\n",
              "    <tr>\n",
              "      <th>41161</th>\n",
              "      <td>week everyon buy babi milk powder next everyon buy toilet paper.</td>\n",
              "      <td>NaN</td>\n",
              "    </tr>\n",
              "    <tr>\n",
              "      <th>...</th>\n",
              "      <td>...</td>\n",
              "      <td>...</td>\n",
              "    </tr>\n",
              "    <tr>\n",
              "      <th>44950</th>\n",
              "      <td>meanwhil supermarket israel peopl danc sing togeth stay positive.</td>\n",
              "      <td>NaN</td>\n",
              "    </tr>\n",
              "    <tr>\n",
              "      <th>44951</th>\n",
              "      <td>panic non-perish items? echo need food donations. also look volunt pack boxes. volunt will screen sure they don't have covid-19.</td>\n",
              "      <td>NaN</td>\n",
              "    </tr>\n",
              "    <tr>\n",
              "      <th>44952</th>\n",
              "      <td>asst prof econom talk about recent research coronavirus' impact economy. watch here (start :33):</td>\n",
              "      <td>NaN</td>\n",
              "    </tr>\n",
              "    <tr>\n",
              "      <th>44953</th>\n",
              "      <td>need someth instead biar rakyat assum 'lockdown' even worst. harini semua supermarket crowd like hell. lagi mudah viru tersebar</td>\n",
              "      <td>NaN</td>\n",
              "    </tr>\n",
              "    <tr>\n",
              "      <th>44954</th>\n",
              "      <td>member commit safeti employe end-users. monitor covid-19. rest assur that tissu manufactur continu produc ship products.</td>\n",
              "      <td>NaN</td>\n",
              "    </tr>\n",
              "  </tbody>\n",
              "</table>\n",
              "<p>3798 rows × 2 columns</p>\n",
              "</div>"
            ],
            "text/plain": [
              "                                                                                                                                         OriginalTweet Sentiment\n",
              "41157  trending: yorker encount empti supermarket shelv (pictured, wegman brooklyn), sold-out onlin grocer (foodkick, maxdelivery) -fear shopper stock       NaN\n",
              "41158                                                when couldn't find hand sanit fred meyer, turn $114.97 pack purell??!!check concern drive prices.       NaN\n",
              "41159                                                                                                              find protect yourself love one from       NaN\n",
              "41160                                            buy hit citi anxiou shopper stock food&amp;med suppli after worker becom confirm patient stage event?       NaN\n",
              "41161                                                                                 week everyon buy babi milk powder next everyon buy toilet paper.       NaN\n",
              "...                                                                                                                                                ...       ...\n",
              "44950                                                                                meanwhil supermarket israel peopl danc sing togeth stay positive.       NaN\n",
              "44951                 panic non-perish items? echo need food donations. also look volunt pack boxes. volunt will screen sure they don't have covid-19.       NaN\n",
              "44952                                                 asst prof econom talk about recent research coronavirus' impact economy. watch here (start :33):       NaN\n",
              "44953                  need someth instead biar rakyat assum 'lockdown' even worst. harini semua supermarket crowd like hell. lagi mudah viru tersebar       NaN\n",
              "44954                         member commit safeti employe end-users. monitor covid-19. rest assur that tissu manufactur continu produc ship products.       NaN\n",
              "\n",
              "[3798 rows x 2 columns]"
            ]
          },
          "metadata": {
            "tags": []
          },
          "execution_count": 33
        }
      ]
    },
    {
      "cell_type": "code",
      "metadata": {
        "colab": {
          "base_uri": "https://localhost:8080/"
        },
        "id": "g-HCW1HbV0gS",
        "outputId": "01c8c705-afea-459a-b570-78fc555ad27a"
      },
      "source": [
        "output=model.predict(test[\"OriginalTweet\"])\n",
        "output=np.argmax(output,axis=1)\n",
        "output"
      ],
      "execution_count": null,
      "outputs": [
        {
          "output_type": "execute_result",
          "data": {
            "text/plain": [
              "array([2, 4, 1, ..., 3, 4, 3])"
            ]
          },
          "metadata": {
            "tags": []
          },
          "execution_count": 34
        }
      ]
    },
    {
      "cell_type": "code",
      "metadata": {
        "id": "WWBfM-o3V8Lo"
      },
      "source": [
        "values={0:'Extremely Negative',1:'Extremely Positive',2:'Negative',3:'Neutral',4:'Positive'}\n",
        "x=[]\n",
        "for i in range(len(output)):\n",
        "    x.append([i+1,values[output[i]]])\n",
        "\n",
        "df = pd.DataFrame(x, columns = ['UserName', 'Sentiment'])\n"
      ],
      "execution_count": null,
      "outputs": []
    },
    {
      "cell_type": "code",
      "metadata": {
        "id": "X78jxM8-WF5y"
      },
      "source": [
        "df.to_csv(\"/content/183-fine_tuned_rnn.csv\")"
      ],
      "execution_count": null,
      "outputs": []
    },
    {
      "cell_type": "code",
      "metadata": {
        "id": "aCiqr_hEILmc"
      },
      "source": [
        ""
      ],
      "execution_count": null,
      "outputs": []
    }
  ]
}